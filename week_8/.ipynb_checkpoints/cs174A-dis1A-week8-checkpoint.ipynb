{
 "cells": [
  {
   "cell_type": "markdown",
   "metadata": {
    "slideshow": {
     "slide_type": "slide"
    }
   },
   "source": [
    "# CS-174A Discussion 1A, Week 8\n",
    "\n",
    "- CS174A, discussion 1A, Winter 2020.\n",
    "- Instructor: [Demetri Terzopoulos](http://web.cs.ucla.edu/~dt/)\n",
    "- TA: Yunqi Guo\n",
    "- https://github.com/luckiday/cs174a-1a-2020w"
   ]
  },
  {
   "cell_type": "markdown",
   "metadata": {
    "slideshow": {
     "slide_type": "slide"
    }
   },
   "source": [
    "# Outline\n",
    "\n",
    "- Texture Mapping\n",
    "- Assignment 4\n",
    "- Collision Detection"
   ]
  },
  {
   "cell_type": "markdown",
   "metadata": {
    "slideshow": {
     "slide_type": "slide"
    }
   },
   "source": [
    "# Texture Mapping\n",
    "\n",
    "- There are small surface details on real objects that need to be taken into account for better realism. \n",
    "  \n",
    "  <img src=\"./figures/texture1.png\" alt=\"drawing\" width=\"400\"/>"
   ]
  },
  {
   "cell_type": "markdown",
   "metadata": {
    "slideshow": {
     "slide_type": "subslide"
    }
   },
   "source": [
    "- To take these into account apply texture to our images to make the surfaces realistic \n",
    "\n",
    "  - We can scan textures from real world or paint them\n",
    "\n",
    "  - Store the texture as a 2D image\n",
    "\n",
    "  - We map the texture to **object space** and then **screen space**\n",
    "\n",
    "    <img src=\"./figures/texture2.png\" alt=\"drawing\" width=\"400\"/>"
   ]
  },
  {
   "cell_type": "markdown",
   "metadata": {
    "slideshow": {
     "slide_type": "subslide"
    }
   },
   "source": [
    "- A practical approach is to do the screen to texture transformation (so that we don’t have to deal with pixel coverage issues)\n",
    "\n",
    "- Some texture to object transformations\n",
    "\n",
    "  - Square to cylinder\n",
    "\n",
    "    <img src=\"./figures/texture3.png\" alt=\"drawing\" width=\"600\"/>"
   ]
  },
  {
   "cell_type": "markdown",
   "metadata": {
    "slideshow": {
     "slide_type": "subslide"
    }
   },
   "source": [
    "  - From screen to texture:\n",
    "\n",
    "    - Inverse the transform $(s_x,s_y)$ to get the world $(x,y,z)$\n",
    "    - With $(x,y,z)$: \n",
    "\n",
    "    <img src=\"./figures/texture4.png\" alt=\"drawing\" width=\"550\"/>"
   ]
  },
  {
   "cell_type": "markdown",
   "metadata": {
    "slideshow": {
     "slide_type": "subslide"
    }
   },
   "source": [
    "- Intuitively speaking, only vertices are sent down to the graphics pipeline so we need to interpolate the texture coordinates\n",
    "\n",
    "- This is done by a scanline in screen space \n",
    "\n",
    "- It is had its own issues such as **perspective foreshortening (why ?)**\n",
    "\n",
    "  <img src=\"./figures/texture5.png\" alt=\"drawing\" width=\"550\"/>"
   ]
  },
  {
   "cell_type": "markdown",
   "metadata": {
    "slideshow": {
     "slide_type": "subslide"
    }
   },
   "source": [
    "- How do we correctly figure out the texture coordinates ? \n",
    "\n",
    "  - Interpolate along the scanline \n",
    "\n",
    "    <img src=\"./figures/texture6.png\" alt=\"drawing\" width=\"550\"/>\n",
    "\n",
    "  - Perform perspective division **after** interpolation\n",
    "\n"
   ]
  },
  {
   "cell_type": "markdown",
   "metadata": {
    "slideshow": {
     "slide_type": "subslide"
    }
   },
   "source": [
    "## Quiz\n",
    "\n",
    "1. Which of the following is correct ? \n",
    "\n",
    "   a. Textures are applied in the vertex processing stage of the graphics pipeline\n",
    "\n",
    "   b. Texture coordinates are typically assigned at vertices and interpolated to the interior of a triangle\n",
    "   \n",
    "   c. Bump mapping can correct the distortion problems that occurred when applying a wood image map to a 3D object\n",
    "\n",
    "   d. Only b and c \n",
    "\n",
    "   e. a , b and c"
   ]
  },
  {
   "cell_type": "markdown",
   "metadata": {
    "slideshow": {
     "slide_type": "subslide"
    }
   },
   "source": [
    "2. Texture coordinates are typically assigned at vertices and interpolated to the interior of a triangle.\n",
    "\n",
    "   a. True\n",
    "\n",
    "   b. False"
   ]
  },
  {
   "cell_type": "markdown",
   "metadata": {
    "slideshow": {
     "slide_type": "slide"
    }
   },
   "source": [
    "# Assignment 4\n",
    "\n",
    "- Demo"
   ]
  },
  {
   "cell_type": "markdown",
   "metadata": {
    "slideshow": {
     "slide_type": "slide"
    }
   },
   "source": [
    "# Collision Detection\n",
    "\n",
    "- Object Representation\n",
    "  - We perform collision detection by computing whether one primitive intersects another.\n",
    "  - We could do this by comparing all triangles in a scene with each other.\n",
    "    - This would be slow and produce a lot of useless results.\n",
    "  - Stick to objects in scene we care about.\n",
    "    - Still checking objects not colliding with anything.\n",
    "    - Say we have ten objects that potentially hit each other made up of 100 triangles each\n",
    "    - Several tens of thousands of comparisons required!\n",
    "  - Need to be smarter about this..."
   ]
  },
  {
   "cell_type": "markdown",
   "metadata": {
    "slideshow": {
     "slide_type": "subslide"
    }
   },
   "source": [
    "# Collision Detection\n",
    "\n",
    "- Object Representation\n",
    "  - Has to be a better way\n",
    "  - There is, it is called a bounding volume.\n",
    "    - A sphere is the simplest.\n",
    "  - Not an exact representation, but...\n",
    "  - Now we only need around 50 comparisons!\n",
    "  - If two spheres intersect a more thorough check can then be performed.\n",
    "  - We spend time only when we need to\n",
    "  - Or, test itself can be sufficient if objects are far enough away and close inspection is not necessary."
   ]
  },
  {
   "cell_type": "markdown",
   "metadata": {
    "slideshow": {
     "slide_type": "subslide"
    }
   },
   "source": [
    "## Object Representations\n",
    "\n",
    "- Sphere\n",
    "- Rectangle\n",
    "- Axis-aligned bounding box (AABB)"
   ]
  },
  {
   "cell_type": "markdown",
   "metadata": {
    "slideshow": {
     "slide_type": "subslide"
    }
   },
   "source": [
    "### Bounding Sphere\n",
    "- Simple intersection test...\n",
    "\n",
    "```c\n",
    "struct Sphere {\n",
    "    Point c;\n",
    "    float r; \n",
    "};\n",
    "\n",
    "int testSphere( Sphere a, Sphere b )\n",
    "{\n",
    "    // Calculate squared distance between centers\n",
    "    Vector d = a.c – b.c;\n",
    "    float dist2 = Dot( d, d );\n",
    "    // Spheres intersect if squared distance is less than // squared sum of radii\n",
    "    float radiusSum = a.r + b.r;\n",
    "    return dist2 <= radiusSum * radiusSum; \n",
    "}\n",
    "```"
   ]
  },
  {
   "cell_type": "markdown",
   "metadata": {
    "slideshow": {
     "slide_type": "subslide"
    }
   },
   "source": [
    "### Axis Aligned Bounding Box\n",
    "- Example, intersection of two AABB\n",
    "\n",
    "```c\n",
    "struct AABB {\n",
    "    Point min;\n",
    "    Point max;\n",
    "};\n",
    "\n",
    "int testAABB( AABB a, AABB b )\n",
    "{\n",
    "    // Exit if separated along an axis\n",
    "    if ( a.max[0] < b.min[0] || a.min[0] > b.max[0] ) return 0; \n",
    "    if ( a.max[1] < b.min[1] || a.min[1] > b.max[1] ) return 0; \n",
    "    if ( a.max[2] < b.min[2] || a.min[2] > b.max[2] ) return 0; \n",
    "    // Overlapping on all axes means there is an intersection \n",
    "    return 1;\n",
    "}\n",
    "```"
   ]
  },
  {
   "cell_type": "markdown",
   "metadata": {
    "slideshow": {
     "slide_type": "subslide"
    }
   },
   "source": [
    "# Algorithms for Efficient Collision Detection\n",
    "\n",
    "https://wikivisually.com/wiki/Bounding_sphere#Ritter's_bounding_sphere\n",
    "\n",
    "- Ritter's bounding sphere\n",
    "- Linear programming\n",
    "- Core-set based approximation\n",
    "- Fischer's exact solver\n",
    "- Extremal points optimal sphere\n"
   ]
  }
 ],
 "metadata": {
  "celltoolbar": "Slideshow",
  "kernelspec": {
   "display_name": "Python 3",
   "language": "python",
   "name": "python3"
  },
  "language_info": {
   "codemirror_mode": {
    "name": "ipython",
    "version": 3
   },
   "file_extension": ".py",
   "mimetype": "text/x-python",
   "name": "python",
   "nbconvert_exporter": "python",
   "pygments_lexer": "ipython3",
   "version": "3.7.4"
  }
 },
 "nbformat": 4,
 "nbformat_minor": 2
}
