{
 "cells": [
  {
   "cell_type": "markdown",
   "metadata": {
    "slideshow": {
     "slide_type": "slide"
    }
   },
   "source": [
    "# CS-174A Discussion 1A, Week 7\n",
    "\n",
    "- CS174A, discussion 1A, Winter 2020.\n",
    "- Instructor: [Demetri Terzopoulos](http://web.cs.ucla.edu/~dt/)\n",
    "- TA: Yunqi Guo\n",
    "- https://github.com/luckiday/cs174a-1a-2020w"
   ]
  },
  {
   "cell_type": "markdown",
   "metadata": {
    "slideshow": {
     "slide_type": "slide"
    }
   },
   "source": [
    "# Outline\n",
    "\n",
    "- Midterm Solutions\n",
    "- Tiny graphics examples"
   ]
  },
  {
   "cell_type": "markdown",
   "metadata": {},
   "source": [
    "# Tiny-graphics Examples\n",
    "\n",
    "- Lots of free code here: https://github.com/encyclopedia-of-code/tiny-graphics-js \\\n",
    "  (This is on piazza)\n",
    "- Check general resources on piazza page for more info\n",
    "- Demos include:\n",
    "  - Inertia\n",
    "  - Collision\n",
    "  - Lighting\n",
    "  - Surfaces\n",
    "  - Text"
   ]
  },
  {
   "cell_type": "code",
   "execution_count": null,
   "metadata": {},
   "outputs": [],
   "source": []
  }
 ],
 "metadata": {
  "celltoolbar": "Slideshow",
  "kernelspec": {
   "display_name": "Python 3",
   "language": "python",
   "name": "python3"
  },
  "language_info": {
   "codemirror_mode": {
    "name": "ipython",
    "version": 3
   },
   "file_extension": ".py",
   "mimetype": "text/x-python",
   "name": "python",
   "nbconvert_exporter": "python",
   "pygments_lexer": "ipython3",
   "version": "3.7.4"
  }
 },
 "nbformat": 4,
 "nbformat_minor": 2
}
