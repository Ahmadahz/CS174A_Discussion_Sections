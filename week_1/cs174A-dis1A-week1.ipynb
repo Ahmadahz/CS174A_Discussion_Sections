{
 "cells": [
  {
   "cell_type": "markdown",
   "metadata": {
    "slideshow": {
     "slide_type": "slide"
    }
   },
   "source": [
    "# CS-174A Discussion 1A, Week 1\n",
    "\n",
    "@ Jonathan Mitchell\n",
    "\n",
    "@ BOELTER 9436 / Friday / 10:00 am - 11:50 am\n",
    "\n",
    "@ https://github.com/JonathanCMitchell/CS174A_Discussion_Sections"
   ]
  },
  {
   "cell_type": "markdown",
   "metadata": {
    "slideshow": {
     "slide_type": "slide"
    }
   },
   "source": [
    "# Outline\n",
    "\n",
    "- About this course\n",
    "- JavaScript and WebGL Basics\n",
    "- Assignment 1"
   ]
  },
  {
   "cell_type": "markdown",
   "metadata": {
    "slideshow": {
     "slide_type": "slide"
    }
   },
   "source": [
    "# CS-174A Introduction\n",
    "\n",
    "\n",
    "## About Me: \n",
    "\n",
    "- Jonathan Mitchell, Ph.D student in Computer Science 2nd year. Focus in Computer Vision & Deep Learning\n",
    "\n",
    "- Office hours: Eng-VI 396, Monday 10:00 - Noon or by appointment.\n",
    "\n",
    "- Email: jcmitchell@g.ucla.edu"
   ]
  },
  {
   "cell_type": "markdown",
   "metadata": {
    "slideshow": {
     "slide_type": "subslide"
    }
   },
   "source": [
    "\n"
   ]
  },
  {
   "cell_type": "markdown",
   "metadata": {
    "slideshow": {
     "slide_type": "subslide"
    }
   },
   "source": [
    "# Purpose of CS174A Discussions\n",
    "\n",
    "- Review the lectures\n",
    "- Learn how to finish the assignments (35 pts)\n",
    "- Discuss course project (35 pts)"
   ]
  },
  {
   "cell_type": "markdown",
   "metadata": {
    "slideshow": {
     "slide_type": "slide"
    }
   },
   "source": [
    "# JavaScript Basics\n",
    "\n",
    "- JavaScript is a programming language that adds interactivity to your website!"
   ]
  },
  {
   "cell_type": "code",
   "execution_count": 19,
   "metadata": {
    "slideshow": {
     "slide_type": "fragment"
    }
   },
   "outputs": [
    {
     "data": {
      "text/html": [
       "<p id=\"demo\">JavaScript can change HTML content.</p>\n",
       "<button type=\"button\" onclick='document.getElementById(\"demo\").innerHTML = \"Hello JavaScript!\"'>Dont click me!</button>\n"
      ],
      "text/plain": [
       "<IPython.core.display.HTML object>"
      ]
     },
     "metadata": {},
     "output_type": "display_data"
    }
   ],
   "source": [
    "%%html\n",
    "<p id=\"demo\">JavaScript can change HTML content.</p>\n",
    "<button type=\"button\" onclick='document.getElementById(\"demo\").innerHTML = \"Hello JavaScript!\"'>Dont click me!</button>"
   ]
  },
  {
   "cell_type": "markdown",
   "metadata": {
    "slideshow": {
     "slide_type": "subslide"
    }
   },
   "source": [
    "# JavaScript Basics\n",
    "\n",
    "- Variable\n",
    "- Function\n",
    "- Class"
   ]
  },
  {
   "cell_type": "markdown",
   "metadata": {
    "slideshow": {
     "slide_type": "subslide"
    }
   },
   "source": [
    "## Variable and Data types\n",
    "\n",
    "JavaScript variables can hold many **data types**: numbers, strings, objects and more:\n",
    "```js\n",
    "var length = 16;                            // Number\n",
    "var lastName = \"Johnson\";                   // String\n",
    "var x = {firstName:\"John\", lastName:\"Doe\"}; // Object\n",
    "```\n"
   ]
  },
  {
   "cell_type": "code",
   "execution_count": 21,
   "metadata": {
    "slideshow": {
     "slide_type": "fragment"
    }
   },
   "outputs": [
    {
     "data": {
      "application/javascript": [
       "var num = 16;                                  // Number\n",
       "element.text(\"The number is \" + num)\n"
      ],
      "text/plain": [
       "<IPython.core.display.Javascript object>"
      ]
     },
     "metadata": {},
     "output_type": "display_data"
    }
   ],
   "source": [
    "%%js\n",
    "var num = 16;                                  // Number\n",
    "element.text(\"The number is \" + num)"
   ]
  },
  {
   "cell_type": "markdown",
   "metadata": {
    "slideshow": {
     "slide_type": "subslide"
    }
   },
   "source": [
    "## Objects\n",
    "\n",
    "You define (and create) a JavaScript object with an object literal:\n",
    "\n",
    "```js\n",
    "var person = {firstName:\"John\", lastName:\"Doe\", age:50, eyeColor:\"blue\"};\n",
    "```"
   ]
  },
  {
   "cell_type": "code",
   "execution_count": 23,
   "metadata": {
    "scrolled": true,
    "slideshow": {
     "slide_type": "fragment"
    }
   },
   "outputs": [
    {
     "data": {
      "application/javascript": [
       "var person = {firstName:\"John\", lastName:\"Doe\", age:50, eyeColor:\"blue\"};\n",
       "element.text(person.firstName + \"'s age is \" + person[\"age\"]);  \n",
       "// two ways for accessing the property of an object\n",
       "\n",
       "var name = new String(\"John\");\n",
       "var name_2 = \"John\";\n",
       "element.text(name === name_2); \n"
      ],
      "text/plain": [
       "<IPython.core.display.Javascript object>"
      ]
     },
     "metadata": {},
     "output_type": "display_data"
    }
   ],
   "source": [
    "%%js\n",
    "var person = {firstName:\"John\", lastName:\"Doe\", age:50, eyeColor:\"blue\"};\n",
    "element.text(person.firstName + \"'s age is \" + person[\"age\"]);  \n",
    "// two ways for accessing the property of an object\n",
    "\n",
    "var name = new String(\"John\");\n",
    "var name_2 = \"John\";\n",
    "element.text(name === name_2); "
   ]
  },
  {
   "cell_type": "code",
   "execution_count": 24,
   "metadata": {},
   "outputs": [
    {
     "data": {
      "application/javascript": [
       "for (let i = 0; i< 10; i++) {\n",
       "    console.log(\"i: \", i)\n",
       "}\n"
      ],
      "text/plain": [
       "<IPython.core.display.Javascript object>"
      ]
     },
     "metadata": {},
     "output_type": "display_data"
    }
   ],
   "source": [
    "%%js\n",
    "for (let i = 0; i< 10; i++) {\n",
    "    console.log(\"i: \", i)\n",
    "}"
   ]
  },
  {
   "cell_type": "markdown",
   "metadata": {
    "slideshow": {
     "slide_type": "subslide"
    }
   },
   "source": [
    "## Functions\n",
    "\n",
    "A JavaScript function is a block of code designed to perform a particular task.\n",
    "\n",
    "A JavaScript function is executed when \"something\" invokes it (calls it)."
   ]
  },
  {
   "cell_type": "code",
   "execution_count": 25,
   "metadata": {
    "slideshow": {
     "slide_type": "fragment"
    }
   },
   "outputs": [
    {
     "data": {
      "application/javascript": [
       "function myFunction(p1, p2) {\n",
       "  return p1 * p2;   // The function returns the product of p1 and p2\n",
       "}\n",
       "\n",
       "var a = 3;\n",
       "var b = 4;\n",
       "element.text(\"The product of a and b is \" + myFunction(a,b))\n"
      ],
      "text/plain": [
       "<IPython.core.display.Javascript object>"
      ]
     },
     "metadata": {},
     "output_type": "display_data"
    }
   ],
   "source": [
    "%%js\n",
    "function myFunction(p1, p2) {\n",
    "  return p1 * p2;   // The function returns the product of p1 and p2\n",
    "}\n",
    "\n",
    "var a = 3;\n",
    "var b = 4;\n",
    "element.text(\"The product of a and b is \" + myFunction(a,b))"
   ]
  },
  {
   "cell_type": "markdown",
   "metadata": {
    "slideshow": {
     "slide_type": "subslide"
    }
   },
   "source": [
    "### Arrow Function\n",
    "JavaScript arrow functions are roughly the equivalent of lambda functions in python or blocks in Ruby."
   ]
  },
  {
   "cell_type": "code",
   "execution_count": 26,
   "metadata": {
    "slideshow": {
     "slide_type": "fragment"
    }
   },
   "outputs": [
    {
     "data": {
      "application/javascript": [
       "\n",
       "const add = (a, b) => a + b;\n",
       "element.text(add(1,2))\n"
      ],
      "text/plain": [
       "<IPython.core.display.Javascript object>"
      ]
     },
     "metadata": {},
     "output_type": "display_data"
    }
   ],
   "source": [
    "%%js\n",
    "\n",
    "const add = (a, b) => a + b;\n",
    "element.text(add(1,2))"
   ]
  },
  {
   "cell_type": "markdown",
   "metadata": {
    "slideshow": {
     "slide_type": "subslide"
    }
   },
   "source": [
    "## Object Methods\n"
   ]
  },
  {
   "cell_type": "code",
   "execution_count": 27,
   "metadata": {
    "slideshow": {
     "slide_type": "-"
    }
   },
   "outputs": [
    {
     "data": {
      "application/javascript": [
       "var person = {\n",
       "  firstName: \"John\",\n",
       "  lastName : \"Doe\",\n",
       "  id       : 5566,\n",
       "  fullName : function() {\n",
       "    return this.firstName + \" \" + this.lastName;\n",
       "  }\n",
       "};\n",
       "\n",
       "element.text(person.fullName())\n"
      ],
      "text/plain": [
       "<IPython.core.display.Javascript object>"
      ]
     },
     "metadata": {},
     "output_type": "display_data"
    }
   ],
   "source": [
    "%%js\n",
    "var person = {\n",
    "  firstName: \"John\",\n",
    "  lastName : \"Doe\",\n",
    "  id       : 5566,\n",
    "  fullName : function() {\n",
    "    return this.firstName + \" \" + this.lastName;\n",
    "  }\n",
    "};\n",
    "\n",
    "element.text(person.fullName())"
   ]
  },
  {
   "cell_type": "markdown",
   "metadata": {
    "slideshow": {
     "slide_type": "subslide"
    }
   },
   "source": [
    "### Object Constructors"
   ]
  },
  {
   "cell_type": "code",
   "execution_count": 28,
   "metadata": {
    "slideshow": {
     "slide_type": "-"
    }
   },
   "outputs": [
    {
     "data": {
      "application/javascript": [
       "function Person(first, last, age, eye) {\n",
       "  this.firstName = first;\n",
       "  this.lastName = last;\n",
       "  this.age = age;\n",
       "  this.eyeColor = eye;\n",
       "}\n",
       "\n",
       "var myFather = new Person(\"John\", \"Doe\", 50, \"blue\");\n",
       "\n",
       "element.text(\"My father is \" + myFather.firstName + \" \" + myFather.lastName + \".\")\n"
      ],
      "text/plain": [
       "<IPython.core.display.Javascript object>"
      ]
     },
     "metadata": {},
     "output_type": "display_data"
    }
   ],
   "source": [
    "%%js\n",
    "function Person(first, last, age, eye) {\n",
    "  this.firstName = first;\n",
    "  this.lastName = last;\n",
    "  this.age = age;\n",
    "  this.eyeColor = eye;\n",
    "}\n",
    "\n",
    "var myFather = new Person(\"John\", \"Doe\", 50, \"blue\");\n",
    "\n",
    "element.text(\"My father is \" + myFather.firstName + \" \" + myFather.lastName + \".\")"
   ]
  },
  {
   "cell_type": "markdown",
   "metadata": {
    "slideshow": {
     "slide_type": "subslide"
    }
   },
   "source": [
    "## JavaScript Classes\n",
    "\n",
    "ES6, also known as ECMAScript2015, introduced classes.\n",
    "\n",
    "A class is a type of function, but instead of using the keyword `function` to initiate it, we use the keyword `class`, and the properties is assigned inside a `constructor()` method."
   ]
  },
  {
   "cell_type": "markdown",
   "metadata": {
    "slideshow": {
     "slide_type": "subslide"
    }
   },
   "source": [
    "### Class Definition\n",
    "Use the keyword `class` to create a class, and always add a `constructor` method.\n",
    "\n",
    "The `constructor` method is called each time the class object is initialized.\n",
    "\n",
    "```js\n",
    "class Car {\n",
    "  constructor(brand) {\n",
    "    this.carname = brand;\n",
    "  }\n",
    "}\n",
    "mycar = new Car(\"Ford\");\n",
    "```"
   ]
  },
  {
   "cell_type": "markdown",
   "metadata": {},
   "source": [
    "### Closures"
   ]
  },
  {
   "cell_type": "code",
   "execution_count": 32,
   "metadata": {},
   "outputs": [
    {
     "data": {
      "application/javascript": [
       "function makeAdder(x) {\n",
       "  return function(y) {\n",
       "    return x + y;\n",
       "  };\n",
       "}\n",
       "\n",
       "var add5 = makeAdder(5);\n",
       "var add10 = makeAdder(10);\n",
       "\n",
       "element.text(\" \" + add5(2))  // 7\n",
       "# console.log(add10(2)); // 12\n"
      ],
      "text/plain": [
       "<IPython.core.display.Javascript object>"
      ]
     },
     "metadata": {},
     "output_type": "display_data"
    }
   ],
   "source": [
    "%%js\n",
    "function makeAdder(x) {\n",
    "  return function(y) {\n",
    "    return x + y;\n",
    "  };\n",
    "}\n",
    "\n",
    "var add5 = makeAdder(5);\n",
    "var add10 = makeAdder(10);\n",
    "\n",
    "element.text(add5(2));  // 7\n",
    "console.log(add10(2)); // 12"
   ]
  },
  {
   "cell_type": "markdown",
   "metadata": {
    "slideshow": {
     "slide_type": "subslide"
    }
   },
   "source": [
    "## A Quick Way to Learn JS\n",
    "\n",
    "- https://www.w3schools.com/js/"
   ]
  },
  {
   "cell_type": "markdown",
   "metadata": {
    "slideshow": {
     "slide_type": "slide"
    }
   },
   "source": [
    "# WebGL Basics\n",
    "\n",
    "WebGL (Web Graphics Library) is a JavaScript API for rendering interactive 3D and 2D graphics within any compatible web browser without the use of plug-ins. WebGL does so by introducing an API that closely conforms to OpenGL ES 2.0 that can be used in HTML5 `<canvas>` elements.\n",
    "\n",
    "- [Demo 0: Clearing with colors](demo_0/demo.html). How to clear the rendering context with a solid color.\n",
    "- [Demo 1: Simple color animation](demo_1/index.html). A very basic color animation."
   ]
  },
  {
   "cell_type": "markdown",
   "metadata": {
    "slideshow": {
     "slide_type": "subslide"
    }
   },
   "source": [
    "## ... and some other projects\n",
    "- [WebGL Wather](http://madebyevan.com/webgl-water/)\n",
    "- [Make me pulse wish 2017](http://2017.makemepulse.com)"
   ]
  },
  {
   "cell_type": "markdown",
   "metadata": {
    "slideshow": {
     "slide_type": "slide"
    }
   },
   "source": [
    "# Assignment 1: Environment Setup and Creating a Simple Rectangle\n",
    "\n",
    "- [**Demo**](https://classroom.github.com/classrooms/55804222-intro-graphics-master-f19-classroom-1) "
   ]
  },
  {
   "cell_type": "markdown",
   "metadata": {},
   "source": [
    "\n",
    "### Assignment 1 link @https://classroom.github.com/a/v1j2vhVd"
   ]
  },
  {
   "cell_type": "code",
   "execution_count": null,
   "metadata": {},
   "outputs": [],
   "source": []
  }
 ],
 "metadata": {
  "kernelspec": {
   "display_name": "Python 3",
   "language": "python",
   "name": "python3"
  },
  "language_info": {
   "codemirror_mode": {
    "name": "ipython",
    "version": 3
   },
   "file_extension": ".py",
   "mimetype": "text/x-python",
   "name": "python",
   "nbconvert_exporter": "python",
   "pygments_lexer": "ipython3",
   "version": "3.5.4"
  }
 },
 "nbformat": 4,
 "nbformat_minor": 2
}
