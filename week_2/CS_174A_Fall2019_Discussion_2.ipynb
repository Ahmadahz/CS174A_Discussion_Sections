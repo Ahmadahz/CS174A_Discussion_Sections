{
 "cells": [
  {
   "cell_type": "markdown",
   "metadata": {},
   "source": [
    "Discussion 2"
   ]
  },
  {
   "cell_type": "code",
   "execution_count": 1,
   "metadata": {},
   "outputs": [],
   "source": [
    "import numpy as np\n",
    "from math import *\n",
    "import matplotlib.pyplot as plt"
   ]
  },
  {
   "cell_type": "markdown",
   "metadata": {},
   "source": [
    "## Scale: first we will create a scale matrix"
   ]
  },
  {
   "cell_type": "markdown",
   "metadata": {},
   "source": [
    "Suppose I want to scale the x-axis by 1 and the y-axis by 2"
   ]
  },
  {
   "cell_type": "code",
   "execution_count": 2,
   "metadata": {},
   "outputs": [],
   "source": [
    "sx=1\n",
    "sy=2"
   ]
  },
  {
   "cell_type": "markdown",
   "metadata": {},
   "source": [
    "I will create a scale matrix"
   ]
  },
  {
   "cell_type": "code",
   "execution_count": 3,
   "metadata": {},
   "outputs": [
    {
     "name": "stdout",
     "output_type": "stream",
     "text": [
      "s:  [[1 0 0]\n",
      " [0 2 0]\n",
      " [0 0 1]]\n"
     ]
    }
   ],
   "source": [
    "s = np.array([[sx, 0, 0],\n",
    "              [0, sy, 0],\n",
    "              [0, 0, 1]])\n",
    "print('s: ', s)"
   ]
  },
  {
   "cell_type": "markdown",
   "metadata": {},
   "source": [
    "## Scaling Example...Pick some points"
   ]
  },
  {
   "cell_type": "code",
   "execution_count": 4,
   "metadata": {},
   "outputs": [
    {
     "name": "stdout",
     "output_type": "stream",
     "text": [
      "[1 2 0]\n"
     ]
    }
   ],
   "source": [
    "pts = np.array([1, 1, 0]) # as (x, y, z)\n",
    "s_times_pts = np.dot(s, pts)\n",
    "print(s_times_pts)"
   ]
  },
  {
   "cell_type": "markdown",
   "metadata": {},
   "source": [
    "### Pick box points"
   ]
  },
  {
   "cell_type": "code",
   "execution_count": 5,
   "metadata": {},
   "outputs": [
    {
     "name": "stdout",
     "output_type": "stream",
     "text": [
      "pts:  [[1 1 2 2]\n",
      " [1 2 1 2]\n",
      " [0 0 0 0]\n",
      " [0 0 0 0]]\n",
      "s.times pts [[1 1 2 2]\n",
      " [2 4 2 4]\n",
      " [0 0 0 0]\n",
      " [0 0 0 0]]\n",
      "You can observe that it simply scales the Y component\n"
     ]
    }
   ],
   "source": [
    "# pick more points:\n",
    "left_bottom = [1,1,0, 0]\n",
    "left_top = [1,2,0, 0]\n",
    "right_bottom = [2,1,0, 0]\n",
    "right_top = [2,2,0, 0]\n",
    "\n",
    "pts = np.array([left_bottom, left_top, right_bottom, right_top])\n",
    "# s.times_pts = np.dot(s, pts)\n",
    "print('pts: ', pts.T)\n",
    "s = np.array([[sx, 0, 0, 0], \n",
    "     [0, sy, 0, 0],\n",
    "     [0, 0, 1, 0],\n",
    "     [0, 0, 0, 1]])\n",
    "res = np.dot(s, pts.T)\n",
    "print('s.times pts', res)\n",
    "print('You can observe that it simply scales the Y component')\n"
   ]
  },
  {
   "cell_type": "code",
   "execution_count": 6,
   "metadata": {},
   "outputs": [
    {
     "name": "stdout",
     "output_type": "stream",
     "text": [
      "new_LB:  [1 2]\n",
      "new_LT:  [1 4]\n",
      "new_RB:  [2 2]\n",
      "new_RT:  [2 4]\n"
     ]
    }
   ],
   "source": [
    "print('new_LB: ', res[:,0][0:2])\n",
    "print('new_LT: ', res[:,1][0:2])\n",
    "print('new_RB: ', res[:,2][0:2])\n",
    "print('new_RT: ', res[:,3][0:2])\n"
   ]
  },
  {
   "cell_type": "markdown",
   "metadata": {},
   "source": [
    "## Rotation"
   ]
  },
  {
   "cell_type": "markdown",
   "metadata": {},
   "source": [
    "Now I will create a rotation matrix\n",
    "$$\\\n",
    "  M=\n",
    "  \\left[ {\\begin{array}{ccc}\n",
    "   cos(\\theta) & -sin(\\theta) & 0\\\\\n",
    "   sin(\\theta) & cos(\\theta) & 0\\\\\n",
    "   0 & 0 & 1\\\\\n",
    "  \\end{array} } \\right]\n",
    "]\n",
    "$$"
   ]
  },
  {
   "cell_type": "markdown",
   "metadata": {},
   "source": [
    "Note: This will rotate $\\theta$ counter clockwise in the x,y plane"
   ]
  },
  {
   "cell_type": "code",
   "execution_count": 7,
   "metadata": {},
   "outputs": [
    {
     "name": "stdout",
     "output_type": "stream",
     "text": [
      "R:  [[ 0.70710678 -0.70710678  0.        ]\n",
      " [ 0.70710678  0.70710678  0.        ]\n",
      " [ 0.          0.          1.        ]]\n"
     ]
    }
   ],
   "source": [
    "theta = pi/4\n",
    "get_rotation = lambda theta: np.array([[cos(theta), -1*sin(theta), 0],\n",
    "                                       [sin(theta), cos(theta),  0],\n",
    "                                       [0,                   0,  1]])\n",
    "r = get_rotation(theta)\n",
    "print('R: ', r)"
   ]
  },
  {
   "cell_type": "markdown",
   "metadata": {},
   "source": [
    "$$\\\n",
    "  R=\n",
    "  \\left[ {\\begin{array}{ccc}\n",
    "   \\frac{\\sqrt(2)}{2} & -\\frac{\\sqrt(2)}{2} & 0\\\\\n",
    "   \\frac{\\sqrt(2)}{2} & \\frac{\\sqrt(2)}{2} & 0\\\\\n",
    "   0 & 0 & 1\\\\\n",
    "  \\end{array} } \\right]\n",
    "]\n",
    "$$"
   ]
  },
  {
   "cell_type": "markdown",
   "metadata": {},
   "source": [
    "Determinant of R"
   ]
  },
  {
   "cell_type": "code",
   "execution_count": null,
   "metadata": {},
   "outputs": [],
   "source": [
    "Rx * Ry * Rz (pts)"
   ]
  },
  {
   "cell_type": "code",
   "execution_count": 8,
   "metadata": {},
   "outputs": [
    {
     "name": "stdout",
     "output_type": "stream",
     "text": [
      "1.0\n"
     ]
    }
   ],
   "source": [
    "print(np.linalg.det(r))"
   ]
  },
  {
   "cell_type": "markdown",
   "metadata": {},
   "source": [
    "Det is 1 because volume is preserved!"
   ]
  },
  {
   "cell_type": "markdown",
   "metadata": {},
   "source": [
    "is $s*r$ different from $r*s$?\n",
    "- Yes"
   ]
  },
  {
   "cell_type": "code",
   "execution_count": 9,
   "metadata": {},
   "outputs": [],
   "source": [
    "s = np.array([[sx,0,0],[0, sy, 1],[0, 0, 1]])"
   ]
  },
  {
   "cell_type": "code",
   "execution_count": 10,
   "metadata": {},
   "outputs": [
    {
     "name": "stdout",
     "output_type": "stream",
     "text": [
      "[[1 0 0]\n",
      " [0 2 1]\n",
      " [0 0 1]]\n"
     ]
    }
   ],
   "source": [
    "print(s)"
   ]
  },
  {
   "cell_type": "code",
   "execution_count": 13,
   "metadata": {},
   "outputs": [
    {
     "data": {
      "text/plain": [
       "array([[ 0.70710678, -0.70710678,  0.        ],\n",
       "       [ 0.70710678,  0.70710678,  0.        ],\n",
       "       [ 0.        ,  0.        ,  1.        ]])"
      ]
     },
     "execution_count": 13,
     "metadata": {},
     "output_type": "execute_result"
    }
   ],
   "source": [
    "r"
   ]
  },
  {
   "cell_type": "code",
   "execution_count": 11,
   "metadata": {},
   "outputs": [
    {
     "name": "stdout",
     "output_type": "stream",
     "text": [
      "rotate_scale\n",
      "[[ 0.70710678 -1.41421356 -0.70710678]\n",
      " [ 0.70710678  1.41421356  0.70710678]\n",
      " [ 0.          0.          1.        ]]\n"
     ]
    }
   ],
   "source": [
    "r_times_s = np.dot(r,s)\n",
    "print('rotate_scale')\n",
    "print(r_times_s)"
   ]
  },
  {
   "cell_type": "code",
   "execution_count": 12,
   "metadata": {},
   "outputs": [
    {
     "name": "stdout",
     "output_type": "stream",
     "text": [
      "scale_rotate\n",
      "[[ 0.70710678 -0.70710678  0.        ]\n",
      " [ 1.41421356  1.41421356  1.        ]\n",
      " [ 0.          0.          1.        ]]\n"
     ]
    }
   ],
   "source": [
    "s_times_r = np.dot(s, r)\n",
    "print('scale_rotate')\n",
    "print(s_times_r)"
   ]
  },
  {
   "cell_type": "markdown",
   "metadata": {},
   "source": [
    "From here we can see that these are different transformation matrices!...Hence the property of commutativity does not hold!"
   ]
  },
  {
   "cell_type": "markdown",
   "metadata": {},
   "source": [
    "### Sidenote: If we use different rotation matrix (for reflections)"
   ]
  },
  {
   "cell_type": "markdown",
   "metadata": {},
   "source": [
    "Lets say we use this rotation matrix instead...\n",
    "  $$\\hat{R}=\n",
    "  \\left[ {\\begin{array}{ccc}\n",
    "   cos(\\theta) & sin(\\theta) & 0\\\\\n",
    "   sin(\\theta) & -cos(\\theta) & 0\\\\\n",
    "   0 & 0 & 1\\\\\n",
    "  \\end{array} } \\right]\n",
    "$$"
   ]
  },
  {
   "cell_type": "code",
   "execution_count": 14,
   "metadata": {},
   "outputs": [],
   "source": [
    "r_reflection = np.array([[cos(theta), sin(theta), 0],\n",
    "             [sin(theta), -1*cos(theta),  0],\n",
    "             [0,  0, 1]])"
   ]
  },
  {
   "cell_type": "code",
   "execution_count": 15,
   "metadata": {},
   "outputs": [
    {
     "name": "stdout",
     "output_type": "stream",
     "text": [
      "-1.0\n"
     ]
    }
   ],
   "source": [
    "print(np.linalg.det(r_reflection))"
   ]
  },
  {
   "cell_type": "markdown",
   "metadata": {},
   "source": [
    "The determinant is -1 because we reflect about the XY axis"
   ]
  },
  {
   "cell_type": "code",
   "execution_count": null,
   "metadata": {
    "collapsed": true
   },
   "outputs": [],
   "source": []
  }
 ],
 "metadata": {
  "kernelspec": {
   "display_name": "Python 3",
   "language": "python",
   "name": "python3"
  },
  "language_info": {
   "codemirror_mode": {
    "name": "ipython",
    "version": 3
   },
   "file_extension": ".py",
   "mimetype": "text/x-python",
   "name": "python",
   "nbconvert_exporter": "python",
   "pygments_lexer": "ipython3",
   "version": "3.5.4"
  }
 },
 "nbformat": 4,
 "nbformat_minor": 2
}
