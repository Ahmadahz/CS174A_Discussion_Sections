{
 "cells": [
  {
   "cell_type": "markdown",
   "metadata": {
    "slideshow": {
     "slide_type": "slide"
    }
   },
   "source": [
    "# CS-174A Discussion 1A, Week 6\n",
    "\n",
    "- CS174A, discussion 1A, Winter 2020.\n",
    "- Instructor: [Demetri Terzopoulos](http://web.cs.ucla.edu/~dt/)\n",
    "- TA: Yunqi Guo\n",
    "- https://github.com/luckiday/cs174a-1a-2020w"
   ]
  },
  {
   "cell_type": "markdown",
   "metadata": {
    "slideshow": {
     "slide_type": "slide"
    }
   },
   "source": [
    "# Outline\n",
    "\n",
    "- Assignment 3\n",
    "- Group project tricks"
   ]
  },
  {
   "cell_type": "markdown",
   "metadata": {
    "slideshow": {
     "slide_type": "slide"
    }
   },
   "source": [
    "# What is Like to be a *Cool* Project\n",
    "\n",
    "- Novel in techniques\n",
    "- Attractive scenes\n",
    "- New interaction in games\n",
    "- etc. "
   ]
  },
  {
   "cell_type": "markdown",
   "metadata": {
    "slideshow": {
     "slide_type": "subslide"
    }
   },
   "source": [
    "## Novel in Techniques\n",
    "\n",
    "- [WebGL Water](http://madebyevan.com/webgl-water/)\n"
   ]
  },
  {
   "cell_type": "markdown",
   "metadata": {
    "slideshow": {
     "slide_type": "subslide"
    }
   },
   "source": [
    "## Novel in Techniques\n",
    "\n",
    "- Simulate the abstract substance\n",
    "- e.g. water, fog, clouds, smoke.\n",
    "- Simplify the complex movements and interactions/ collisions"
   ]
  },
  {
   "cell_type": "markdown",
   "metadata": {
    "slideshow": {
     "slide_type": "subslide"
    }
   },
   "source": [
    "## Attractive Scenes\n",
    "\n",
    "- [Make me pulse wish 2017](http://2017.makemepulse.com)"
   ]
  },
  {
   "cell_type": "markdown",
   "metadata": {
    "slideshow": {
     "slide_type": "subslide"
    }
   },
   "source": [
    "## Attractive Scenes\n",
    "\n",
    "- Composition\n",
    "- Color"
   ]
  },
  {
   "cell_type": "markdown",
   "metadata": {
    "slideshow": {
     "slide_type": "subslide"
    }
   },
   "source": [
    "## Attractive Scenes - Composition\n",
    "\n",
    "- Rule of Third\n",
    "- Symmetry / Patterns\n",
    "- Simplify"
   ]
  },
  {
   "cell_type": "markdown",
   "metadata": {
    "slideshow": {
     "slide_type": "subslide"
    }
   },
   "source": [
    "## Attractive Scenes - Composition\n",
    "\n",
    "- Rule of Third\n",
    "  <img src=\"./figures/rule1.png\" alt=\"drawing\" width=\"500\"/>\n",
    "- Symmetry / Patterns\n",
    "- Simplify"
   ]
  },
  {
   "cell_type": "markdown",
   "metadata": {
    "slideshow": {
     "slide_type": "subslide"
    }
   },
   "source": [
    "## Attractive Scenes - Composition\n",
    "\n",
    "- Rule of Third\n",
    "- Symmetry / Patterns\n",
    "  <img src=\"./figures/rule2.png\" alt=\"drawing\" width=\"500\"/>\n",
    "- Simplify"
   ]
  },
  {
   "cell_type": "markdown",
   "metadata": {
    "slideshow": {
     "slide_type": "subslide"
    }
   },
   "source": [
    "## Attractive Scenes - Composition\n",
    "\n",
    "- Rule of Third\n",
    "- Symmetry / Patterns\n",
    "- Simplify\n",
    "  <img src=\"./figures/rule3.png\" alt=\"drawing\" width=\"500\"/>\n"
   ]
  },
  {
   "cell_type": "markdown",
   "metadata": {
    "slideshow": {
     "slide_type": "subslide"
    }
   },
   "source": [
    "## Attractive Scenes - Color\n",
    "<img src=\"./figures/color.png\" alt=\"drawing\" width=\"800\"/>"
   ]
  },
  {
   "cell_type": "markdown",
   "metadata": {
    "slideshow": {
     "slide_type": "subslide"
    }
   },
   "source": [
    "## Attractive Scenes - Color\n",
    "\n",
    "### Rules for color selection\n",
    "- Analogous\n",
    "- Monochromatic\n",
    "- Complementary\n",
    "- etc."
   ]
  },
  {
   "cell_type": "markdown",
   "metadata": {
    "slideshow": {
     "slide_type": "fragment"
    }
   },
   "source": [
    "### Tool\n",
    "\n",
    "- https://color.adobe.com/create "
   ]
  }
 ],
 "metadata": {
  "kernelspec": {
   "display_name": "Python 3",
   "language": "python",
   "name": "python3"
  },
  "language_info": {
   "codemirror_mode": {
    "name": "ipython",
    "version": 3
   },
   "file_extension": ".py",
   "mimetype": "text/x-python",
   "name": "python",
   "nbconvert_exporter": "python",
   "pygments_lexer": "ipython3",
   "version": "3.7.4"
  }
 },
 "nbformat": 4,
 "nbformat_minor": 2
}
